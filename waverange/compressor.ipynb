{
 "cells": [
  {
   "cell_type": "code",
   "execution_count": 15,
   "metadata": {},
   "outputs": [],
   "source": [
    "from data_parser import VelParser\n",
    "from entropy_compressor import ZCompressor\n",
    "from quantizator import Quantizator\n",
    "from wavelet_compressor import WaveletCompressor\n",
    "\n",
    "import os\n",
    "import shutil\n",
    "import numpy as np\n",
    "from typing import Dict, List\n",
    "\n",
    "COMPRESS_PATH = 'compressed_low'\n",
    "DECOMPRESS_PATH = 'decompressed'\n",
    "IMAGE_NAME = 'low.png'\n",
    "MESH_KEYS = ['faces', 'neighbour', 'owner', 'points']\n",
    "PTURHO_KEYS = ['p', 'T', 'U', 'rho']\n",
    "\n",
    "\n",
    "class Compressor:\n",
    "    def __init__(self):\n",
    "        if not os.path.exists(COMPRESS_PATH):\n",
    "            os.mkdir(COMPRESS_PATH)\n",
    "        self.entropy_compressor = ZCompressor()\n",
    "        self.quantizator = Quantizator()\n",
    "        self.wavelet_compressor = WaveletCompressor()\n",
    "        self.parser = VelParser()\n",
    "\n",
    "    def total_compress(self, data: np.ndarray) -> List[np.ndarray | np.float64]:\n",
    "        wavelet_compressed = self.wavelet_compressor.wavelet_transform(data)[0]\n",
    "        quantized, q_step, min_val = self.quantizator.uniform_quantization(wavelet_compressed)\n",
    "        entropy_compressed = self.entropy_compressor.compress(quantized).hex()\n",
    "        return [entropy_compressed, q_step, min_val]\n",
    "\n",
    "    def save_mesh(self, mesh_data: Dict[str, np.ndarray]) -> None:\n",
    "        # faces, neighbour, owner, pts = mesh_data.values()\n",
    "        with open(COMPRESS_PATH + '/' + 'mesh', mode='w+') as f:\n",
    "            print(list(mesh_data.keys())[:-1])\n",
    "            for (key, value) in list(mesh_data.items())[:-1]:\n",
    "                compressed_ndarray, q_step, min_val = self.total_compress(value)\n",
    "                f.write(f'{q_step} {min_val}\\n')\n",
    "                f.write(str(compressed_ndarray) + '\\n')\n",
    "\n",
    "    def compress_and_save(self, model: str, base_path: str, dim: str):\n",
    "        vels = list(map(str, sorted(self.parser.get_vels(\n",
    "            model=model,\n",
    "            base_path=base_path,\n",
    "            dimpath=dim,\n",
    "        ), key=lambda x: str(x))))\n",
    "        mesh_data = self.parser.get_mesh_data(\n",
    "            path_to_vel=vels[0],\n",
    "        )\n",
    "        self.save_mesh(mesh_data=mesh_data)\n",
    "        \n",
    "        for vel in vels:\n",
    "            data = self.parser.get_vel_data(\n",
    "                path_to_vel=vel,\n",
    "            )\n",
    "            print(data)\n",
    "            vellast = vel.split('/')[-1]\n",
    "            with open(COMPRESS_PATH + '/' + vellast, mode='w+') as f:\n",
    "                times = list(data.keys())\n",
    "                f.write(f'{\";\".join(times)}\\n')\n",
    "                for (_, value) in list(data.items())[1:]:\n",
    "                    p, t, u, rho = value\n",
    "                    print(p, t, u, rho)\n",
    "                    # print(value)\n",
    "                    compressed_p, p_q_step, p_min_val = self.total_compress(p)\n",
    "                    compressed_t, t_q_step, t_min_val = self.total_compress(t)\n",
    "                    compressed_u, u_q_step, u_min_val = self.total_compress(u)\n",
    "                    compressed_rho, rho_q_step, rho_min_val = self.total_compress(rho)\n",
    "                    f.write(f'{p_q_step} {p_min_val}\\n')\n",
    "                    f.write(f'{str(compressed_p)}' + '\\n')\n",
    "\n",
    "                    f.write(f'{t_q_step} {t_min_val}\\n')\n",
    "                    f.write(f'{str(compressed_t)}' + '\\n')\n",
    "\n",
    "                    f.write(f'{u_q_step} {u_min_val}\\n')\n",
    "                    f.write(f'{str(compressed_u)}' + '\\n')\n",
    "\n",
    "                    f.write(f'{rho_q_step} {rho_min_val}\\n')\n",
    "                    f.write(f'{str(compressed_rho)}' + '\\n')\n",
    "    \n",
    "    def copy_not_compressable(self, model: str, base_path: str, dim: str):\n",
    "        vels = list(map(str, sorted(self.parser.get_vels(\n",
    "            model=model,\n",
    "            base_path=base_path,\n",
    "            dimpath=dim,\n",
    "        ), key=lambda x: str(x))))\n",
    "        zero_vel = vels[0]\n",
    "        thermophysical_path = f'{zero_vel}/constant/thermophysicalProperties'\n",
    "        turbulence_props_path = f'{zero_vel}/constant/turbulenceProperties'\n",
    "        boundary_path = f'{zero_vel}/constant/polyMesh/boundary'\n",
    "        image_path = f'{zero_vel}/{IMAGE_NAME}'\n",
    "        system_path = f'{zero_vel}/system'\n",
    "        destination_path = f'{COMPRESS_PATH}/not_compressable'\n",
    "        # os.mkdir(path=destination_path)\n",
    "        shutil.copytree(system_path, destination_path)\n",
    "        shutil.copy(thermophysical_path, destination_path)\n",
    "        shutil.copy(boundary_path, destination_path)\n",
    "        if os.path.exists(image_path):\n",
    "            shutil.copy(image_path, destination_path)\n",
    "        shutil.copy(turbulence_props_path, destination_path)"
   ]
  },
  {
   "cell_type": "code",
   "execution_count": 18,
   "metadata": {},
   "outputs": [
    {
     "name": "stdout",
     "output_type": "stream",
     "text": [
      "['faces', 'neighbour', 'owner', 'points']\n"
     ]
    }
   ],
   "source": [
    "compressor = Compressor()\n",
    "data = compressor.compress_and_save(\n",
    "    model='data_wage',\n",
    "    base_path='data',\n",
    "    dim='low_dim',\n",
    ")"
   ]
  },
  {
   "cell_type": "code",
   "execution_count": 5,
   "metadata": {},
   "outputs": [],
   "source": [
    "compressor = Compressor()\n",
    "compressor.copy_not_compressable(\n",
    "    model='data_wage',\n",
    "    base_path='data',\n",
    "    dim='low_dim',\n",
    ")"
   ]
  },
  {
   "cell_type": "code",
   "execution_count": null,
   "metadata": {},
   "outputs": [],
   "source": [
    "vels = list(map(str, sorted(compressor.parser.get_vels(\n",
    "    model='data_wage',\n",
    "    base_path='data',\n",
    "    dimpath='low_dim',\n",
    "), key=lambda x: str(x))))\n",
    "mesh_data = compressor.parser.get_mesh_data(\n",
    "    path_to_vel=vels[0],\n",
    ")"
   ]
  },
  {
   "cell_type": "code",
   "execution_count": 17,
   "metadata": {},
   "outputs": [
    {
     "ename": "NameError",
     "evalue": "name 'mesh_data' is not defined",
     "output_type": "error",
     "traceback": [
      "\u001b[0;31m---------------------------------------------------------------------------\u001b[0m",
      "\u001b[0;31mNameError\u001b[0m                                 Traceback (most recent call last)",
      "Cell \u001b[0;32mIn[17], line 1\u001b[0m\n\u001b[0;32m----> 1\u001b[0m compressor\u001b[39m.\u001b[39mtotal_compress(mesh_data[\u001b[39m'\u001b[39m\u001b[39mfaces\u001b[39m\u001b[39m'\u001b[39m])\n",
      "\u001b[0;31mNameError\u001b[0m: name 'mesh_data' is not defined"
     ]
    }
   ],
   "source": [
    "compressor.total_compress(mesh_data['faces'])"
   ]
  },
  {
   "cell_type": "code",
   "execution_count": 29,
   "metadata": {},
   "outputs": [
    {
     "data": {
      "text/plain": [
       "['111000010111111001111101011101110101101110011011110011111111110100010011110100110110010001111001011001011110100110111011111101111011101011110110010011011011111010001101010100001110100110001011100011100100111110011101011001001110111111100011101101100011110011000001100001110011111010101010110110111111010000000000000000000000000000000000000',\n",
       " 0.002994060516357422,\n",
       " -30.03125]"
      ]
     },
     "execution_count": 29,
     "metadata": {},
     "output_type": "execute_result"
    }
   ],
   "source": [
    "compressor.total_compress(mesh_data['neighbour'])"
   ]
  },
  {
   "cell_type": "code",
   "execution_count": 30,
   "metadata": {},
   "outputs": [
    {
     "data": {
      "text/plain": [
       "['11110010110001111000111101100000111111101100011101001110011111101010000000010011100001110101011000101111111001110110101111001100010101110100011011110111101001000100010001011000001101000111001111110101011011100000101111111101110101011001100000100101100111111001011100100101010001101001100011010011001110111001001110111011011100010001010000100001110110000011110100010011100010011100101110000011101100100101101010001110110011011011011110000110001111111011001010011010010000110001011111101010111111110011100010111100111001100101001011101011',\n",
       " 0.002654552459716797,\n",
       " -13.15625]"
      ]
     },
     "execution_count": 30,
     "metadata": {},
     "output_type": "execute_result"
    }
   ],
   "source": [
    "compressor.total_compress(mesh_data['owner'])"
   ]
  },
  {
   "cell_type": "code",
   "execution_count": 31,
   "metadata": {},
   "outputs": [
    {
     "data": {
      "text/plain": [
       "['001100110000110001100001100011110001000111110100101100100001000001100000011111000010111000001110010010101001001000111100110111010101110100011011000000001101110011111011010010100110001100111100101101010111111000011001011101111110001011011111111000100011000000100100011110001001100111010011110011010110111010111010101101000111111111111111100100111111101001001100100010011010100110001100111110011000110111110001110110000110111000111100011100111111110100111010110110111100001110111111010110010111110111001100101010011010110010111000011010100011110111111000100100010100101100110000000011011110111101111011011001000111100101100111000110110011011001001001110110110011010111110010000101000011110010110101110101001110010000010110100111101100111111101010011010001100111001001101111100100000010101000110100010101111010000101100100010000000101010011100101110001000100001110111000101111100110111111011101111111011100010101000110000111010110011110101111101000111011001100111101101100110101010101101010011001111001110010110100111111110011001001001111001010110110011000110110100101111111100111011000100010000110101110011101000010000011011010011000000110111110001101101000000101101110110111100010001011101011001011010111010111101010000110111010111011011000000101011010000010001001111100001011010011010111110001110010101001010110010100101101111010110010110001101111100101010110000001100000100100101010',\n",
       " 0.0056163938903808575,\n",
       " -0.44794136718749983]"
      ]
     },
     "execution_count": 31,
     "metadata": {},
     "output_type": "execute_result"
    }
   ],
   "source": [
    "compressor.total_compress(mesh_data['points'])"
   ]
  },
  {
   "cell_type": "code",
   "execution_count": null,
   "metadata": {},
   "outputs": [],
   "source": []
  }
 ],
 "metadata": {
  "kernelspec": {
   "display_name": "venv",
   "language": "python",
   "name": "python3"
  },
  "language_info": {
   "codemirror_mode": {
    "name": "ipython",
    "version": 3
   },
   "file_extension": ".py",
   "mimetype": "text/x-python",
   "name": "python",
   "nbconvert_exporter": "python",
   "pygments_lexer": "ipython3",
   "version": "3.11.4"
  },
  "orig_nbformat": 4
 },
 "nbformat": 4,
 "nbformat_minor": 2
}
