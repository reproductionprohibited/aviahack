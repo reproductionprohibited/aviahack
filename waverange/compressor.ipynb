{
 "cells": [
  {
   "cell_type": "code",
   "execution_count": 30,
   "metadata": {},
   "outputs": [],
   "source": [
    "from data_parser import VelParser\n",
    "from entropy_compressor import HuffmanCompressor\n",
    "from quantizator import Quantizator\n",
    "from wavelet_compressor import WaveletCompressor\n",
    "\n",
    "import os\n",
    "import shutil\n",
    "import numpy as np\n",
    "from typing import Dict, List\n",
    "from pathlib import Path\n",
    "from pprint import pprint\n",
    "\n",
    "COMPRESSED_PATH = 'compressed'\n",
    "\n",
    "\n",
    "class Compressor:\n",
    "    def __init__(self):\n",
    "        self.entropy_compressor = HuffmanCompressor()\n",
    "        self.quantizator = Quantizator()\n",
    "        self.wavelet_compressor = WaveletCompressor()\n",
    "        self.parser = VelParser()\n",
    "    \n",
    "    def total_compress(self, data: np.ndarray) -> List[np.ndarray | np.float64]:\n",
    "        wavelet_compressed = self.wavelet_compressor.wavelet_transform(data)[0]\n",
    "        quantized, q_step, min_val = self.quantizator.uniform_quantization(wavelet_compressed)\n",
    "        entropy_compressed = self.entropy_compressor.huffman_encode_ndarray(quantized)\n",
    "        return [entropy_compressed, q_step, min_val]\n",
    "\n",
    "    def save_mesh(self, mesh_data: Dict[str, np.ndarray]) -> None:\n",
    "        # faces, boundary, neighbour, owner, pts = mesh_data.values()\n",
    "        with open(COMPRESSED_PATH + '/' + 'mesh', mode='w+') as f:\n",
    "            print(list(mesh_data.keys())[:-1])\n",
    "            for (key, value) in list(mesh_data.items())[:-1]:\n",
    "                compressed_ndarray, q_step, min_val = self.total_compress(value)\n",
    "                f.write(f'{q_step} {min_val}\\n')\n",
    "                f.write(str(compressed_ndarray) + '\\n')\n",
    "\n",
    "    def compress_and_save(self, model: str, base_path: str, dim: str):\n",
    "        vels = list(map(str, sorted(self.parser.get_vels(\n",
    "            model=model,\n",
    "            base_path=base_path,\n",
    "            dimpath=dim,\n",
    "        ), key=lambda x: str(x))))\n",
    "        mesh_data = self.parser.get_mesh_data(\n",
    "            path_to_vel=vels[0],\n",
    "        )\n",
    "        print(mesh_data.keys())\n",
    "        self.save_mesh(mesh_data=mesh_data)\n",
    "\n",
    "        for vel in vels:\n",
    "            data = self.parser.get_vel_data(\n",
    "                path_to_vel=vel,\n",
    "            )\n",
    "            vellast = vel.split('/')[-1]\n",
    "            with open(COMPRESSED_PATH + '/' + vellast, mode='w+') as f:\n",
    "                times = list(data.keys())\n",
    "                f.write(f'{\";\".join(times)}\\n')\n",
    "                for (_, value) in list(data.items())[1:]:\n",
    "                    p, t, u, rho = value\n",
    "                    compressed_p, p_q_step, p_min_val = self.total_compress(p)\n",
    "                    compressed_t, t_q_step, t_min_val = self.total_compress(t)\n",
    "                    compressed_u, u_q_step, u_min_val = self.total_compress(u)\n",
    "                    compressed_rho, rho_q_step, rho_min_val = self.total_compress(rho)\n",
    "                    f.write(f'{p_q_step} {p_min_val}\\n')\n",
    "                    f.write(f'{str(compressed_p)}' + '\\n')\n",
    "                    f.write(f'{t_q_step} {t_min_val}\\n')\n",
    "                    f.write(f'{str(compressed_t)}' + '\\n')\n",
    "                    f.write(f'{u_q_step} {u_min_val}\\n')\n",
    "                    f.write(f'{str(compressed_u)}' + '\\n')\n",
    "                    f.write(f'{rho_q_step} {rho_min_val}\\n')\n",
    "                    f.write(f'{str(compressed_rho)}' + '\\n')\n",
    "    \n",
    "    def copy_not_compressable(self, model: str, base_path: str, dim: str):\n",
    "        vels = list(map(str, sorted(self.parser.get_vels(\n",
    "            model=model,\n",
    "            base_path=base_path,\n",
    "            dimpath=dim,\n",
    "        ), key=lambda x: str(x))))\n",
    "        zero_vel = vels[0]\n",
    "        thermophysical_path = f'{zero_vel}/constant/thermophysicalProperties'\n",
    "        turbulenceProperties = f'{zero_vel}/constant/turbulenceProperties'\n",
    "        system_path = f'{zero_vel}/system'\n",
    "        destination_path = f'compressed/not_compressable'\n",
    "        # os.mkdir(path=destination_path)\n",
    "        shutil.copytree(system_path, destination_path)\n",
    "        shutil.copy(thermophysical_path, destination_path)\n",
    "        shutil.copy(turbulenceProperties, destination_path)"
   ]
  },
  {
   "cell_type": "code",
   "execution_count": null,
   "metadata": {},
   "outputs": [],
   "source": [
    "compressor = Compressor()\n",
    "data = compressor.compress_and_save(\n",
    "    model='data_wage',\n",
    "    base_path='data',\n",
    "    dim='low_dim',\n",
    ")"
   ]
  },
  {
   "cell_type": "code",
   "execution_count": 31,
   "metadata": {},
   "outputs": [
    {
     "ename": "FileExistsError",
     "evalue": "[Errno 17] File exists: 'compressed/not_compressable'",
     "output_type": "error",
     "traceback": [
      "\u001b[0;31m---------------------------------------------------------------------------\u001b[0m",
      "\u001b[0;31mFileExistsError\u001b[0m                           Traceback (most recent call last)",
      "Cell \u001b[0;32mIn[31], line 2\u001b[0m\n\u001b[1;32m      1\u001b[0m compressor \u001b[39m=\u001b[39m Compressor()\n\u001b[0;32m----> 2\u001b[0m compressor\u001b[39m.\u001b[39;49mcopy_not_compressable(\n\u001b[1;32m      3\u001b[0m     model\u001b[39m=\u001b[39;49m\u001b[39m'\u001b[39;49m\u001b[39mdata_wage\u001b[39;49m\u001b[39m'\u001b[39;49m,\n\u001b[1;32m      4\u001b[0m     base_path\u001b[39m=\u001b[39;49m\u001b[39m'\u001b[39;49m\u001b[39mdata\u001b[39;49m\u001b[39m'\u001b[39;49m,\n\u001b[1;32m      5\u001b[0m     dim\u001b[39m=\u001b[39;49m\u001b[39m'\u001b[39;49m\u001b[39mlow_dim\u001b[39;49m\u001b[39m'\u001b[39;49m\n\u001b[1;32m      6\u001b[0m )\n",
      "Cell \u001b[0;32mIn[30], line 87\u001b[0m, in \u001b[0;36mCompressor.copy_not_compressable\u001b[0;34m(self, model, base_path, dim)\u001b[0m\n\u001b[1;32m     85\u001b[0m shutil\u001b[39m.\u001b[39mcopy(thermophysical_path, destination_path)\n\u001b[1;32m     86\u001b[0m shutil\u001b[39m.\u001b[39mcopy(turbulenceProperties, destination_path)\n\u001b[0;32m---> 87\u001b[0m shutil\u001b[39m.\u001b[39;49mcopytree(system_path, destination_path)\n",
      "File \u001b[0;32m/Library/Frameworks/Python.framework/Versions/3.11/lib/python3.11/shutil.py:561\u001b[0m, in \u001b[0;36mcopytree\u001b[0;34m(src, dst, symlinks, ignore, copy_function, ignore_dangling_symlinks, dirs_exist_ok)\u001b[0m\n\u001b[1;32m    559\u001b[0m \u001b[39mwith\u001b[39;00m os\u001b[39m.\u001b[39mscandir(src) \u001b[39mas\u001b[39;00m itr:\n\u001b[1;32m    560\u001b[0m     entries \u001b[39m=\u001b[39m \u001b[39mlist\u001b[39m(itr)\n\u001b[0;32m--> 561\u001b[0m \u001b[39mreturn\u001b[39;00m _copytree(entries\u001b[39m=\u001b[39;49mentries, src\u001b[39m=\u001b[39;49msrc, dst\u001b[39m=\u001b[39;49mdst, symlinks\u001b[39m=\u001b[39;49msymlinks,\n\u001b[1;32m    562\u001b[0m                  ignore\u001b[39m=\u001b[39;49mignore, copy_function\u001b[39m=\u001b[39;49mcopy_function,\n\u001b[1;32m    563\u001b[0m                  ignore_dangling_symlinks\u001b[39m=\u001b[39;49mignore_dangling_symlinks,\n\u001b[1;32m    564\u001b[0m                  dirs_exist_ok\u001b[39m=\u001b[39;49mdirs_exist_ok)\n",
      "File \u001b[0;32m/Library/Frameworks/Python.framework/Versions/3.11/lib/python3.11/shutil.py:459\u001b[0m, in \u001b[0;36m_copytree\u001b[0;34m(entries, src, dst, symlinks, ignore, copy_function, ignore_dangling_symlinks, dirs_exist_ok)\u001b[0m\n\u001b[1;32m    456\u001b[0m \u001b[39melse\u001b[39;00m:\n\u001b[1;32m    457\u001b[0m     ignored_names \u001b[39m=\u001b[39m \u001b[39mset\u001b[39m()\n\u001b[0;32m--> 459\u001b[0m os\u001b[39m.\u001b[39;49mmakedirs(dst, exist_ok\u001b[39m=\u001b[39;49mdirs_exist_ok)\n\u001b[1;32m    460\u001b[0m errors \u001b[39m=\u001b[39m []\n\u001b[1;32m    461\u001b[0m use_srcentry \u001b[39m=\u001b[39m copy_function \u001b[39mis\u001b[39;00m copy2 \u001b[39mor\u001b[39;00m copy_function \u001b[39mis\u001b[39;00m copy\n",
      "File \u001b[0;32m<frozen os>:225\u001b[0m, in \u001b[0;36mmakedirs\u001b[0;34m(name, mode, exist_ok)\u001b[0m\n",
      "\u001b[0;31mFileExistsError\u001b[0m: [Errno 17] File exists: 'compressed/not_compressable'"
     ]
    }
   ],
   "source": [
    "compressor = Compressor()\n",
    "compressor.copy_not_compressable(\n",
    "    model='data_wage',\n",
    "    base_path='data',\n",
    "    dim='low_dim'\n",
    ")"
   ]
  },
  {
   "cell_type": "code",
   "execution_count": null,
   "metadata": {},
   "outputs": [],
   "source": [
    "vels = list(map(str, sorted(compressor.parser.get_vels(\n",
    "    model='data_wage',\n",
    "    base_path='data',\n",
    "    dimpath='low_dim',\n",
    "), key=lambda x: str(x))))\n",
    "mesh_data = compressor.parser.get_mesh_data(\n",
    "    path_to_vel=vels[0],\n",
    ")"
   ]
  },
  {
   "cell_type": "code",
   "execution_count": 28,
   "metadata": {},
   "outputs": [
    {
     "data": {
      "text/plain": [
       "['11001010101010111110010100111101011010101100110011000110111101101110110100100011100001100111111110001111110110110101100000110110101010111000011111100110000001011011101011100100111010100011001111011100100111100011000101011111011010001111100010111101001000101101011101100110010100011110001010000110110111011000011010100101100001010110001001011101001111001011100100100000001110001111011001000101110101010100111001000011110101011101011001010000101010000111101100000011001110010011011010110100010111000100010001001110100001010110100000001111001100101100111011000110101001011101100000101101001110111110010110001101001011001000011001100110011101011010100100110111110101000011111110100111111100000101011110101001111001000110110110111101111001000000000010100001011000111010001101000000011101000000101110011011111110000011110100110011010011100110101111001111000100101110100100101111111101110111001011111101111111100011101001111000010011000000010101110011111111111000001001101000010010100111111101010001110011111010110011000111101000100001001101000101001110111110001000110110001110011011111110011001001011000011110011000110000010101101001111011010110111101100010101110111011000011001110111011010111110000100011100101000000011101000010011001110011101010110100111100010000000011101111100100101000110101101010111100100011111010110011100001001001101110110011101111100111111110001001011100010101111010011111111010010000011111000000010100111010101111100111111100110010000010100000001101100011100011011110101100100011010010110100100101100011011000010000100101010011101101111101101101000110001100101000000001101000011110111011110111001100111011100111001101111100101010110000010110100111110111101110111100011010001011111111011111100111101101111000111000101111010111111010110001101010011010010010110100101011111101100111001110111001110111001011111101010100110111101111000001101110100101011001011000001100000100111011111101110110010100110011001001111110001100001010001100101100101000011101000101101110011110010101001111011011101000010001011010101110011101011011000001011111001100011000111001001010111000011100100001110000011111010101111111111011100000111011011001011010001001101101010110110000101001111001001111110111000111101000111110011110011000011011101000111000010111101000000000101111101100111011110001010010110111010111100110101010101111000101011110110000000110011111011001111100011110110100001100010001110110100010100000010011111110000000101101111011111011101000110111110011011100000111000010110110001101111010101001001110110101001000011110110101100011001111110011000110001110011010101000010110110101011111000101101101011110010001111010111001000110110001101010001011100011001001000101001100111000000110100101110110010000010011000101100001000101110001001001001100010111111101011100101111111010001000100000100001111110001',\n",
       " 0.012706995010375975,\n",
       " -42.71875000000001]"
      ]
     },
     "execution_count": 28,
     "metadata": {},
     "output_type": "execute_result"
    }
   ],
   "source": [
    "compressor.total_compress(mesh_data['faces'])"
   ]
  },
  {
   "cell_type": "code",
   "execution_count": 29,
   "metadata": {},
   "outputs": [
    {
     "data": {
      "text/plain": [
       "['111000010111111001111101011101110101101110011011110011111111110100010011110100110110010001111001011001011110100110111011111101111011101011110110010011011011111010001101010100001110100110001011100011100100111110011101011001001110111111100011101101100011110011000001100001110011111010101010110110111111010000000000000000000000000000000000000',\n",
       " 0.002994060516357422,\n",
       " -30.03125]"
      ]
     },
     "execution_count": 29,
     "metadata": {},
     "output_type": "execute_result"
    }
   ],
   "source": [
    "compressor.total_compress(mesh_data['neighbour'])"
   ]
  },
  {
   "cell_type": "code",
   "execution_count": 30,
   "metadata": {},
   "outputs": [
    {
     "data": {
      "text/plain": [
       "['11110010110001111000111101100000111111101100011101001110011111101010000000010011100001110101011000101111111001110110101111001100010101110100011011110111101001000100010001011000001101000111001111110101011011100000101111111101110101011001100000100101100111111001011100100101010001101001100011010011001110111001001110111011011100010001010000100001110110000011110100010011100010011100101110000011101100100101101010001110110011011011011110000110001111111011001010011010010000110001011111101010111111110011100010111100111001100101001011101011',\n",
       " 0.002654552459716797,\n",
       " -13.15625]"
      ]
     },
     "execution_count": 30,
     "metadata": {},
     "output_type": "execute_result"
    }
   ],
   "source": [
    "compressor.total_compress(mesh_data['owner'])"
   ]
  },
  {
   "cell_type": "code",
   "execution_count": 31,
   "metadata": {},
   "outputs": [
    {
     "data": {
      "text/plain": [
       "['001100110000110001100001100011110001000111110100101100100001000001100000011111000010111000001110010010101001001000111100110111010101110100011011000000001101110011111011010010100110001100111100101101010111111000011001011101111110001011011111111000100011000000100100011110001001100111010011110011010110111010111010101101000111111111111111100100111111101001001100100010011010100110001100111110011000110111110001110110000110111000111100011100111111110100111010110110111100001110111111010110010111110111001100101010011010110010111000011010100011110111111000100100010100101100110000000011011110111101111011011001000111100101100111000110110011011001001001110110110011010111110010000101000011110010110101110101001110010000010110100111101100111111101010011010001100111001001101111100100000010101000110100010101111010000101100100010000000101010011100101110001000100001110111000101111100110111111011101111111011100010101000110000111010110011110101111101000111011001100111101101100110101010101101010011001111001110010110100111111110011001001001111001010110110011000110110100101111111100111011000100010000110101110011101000010000011011010011000000110111110001101101000000101101110110111100010001011101011001011010111010111101010000110111010111011011000000101011010000010001001111100001011010011010111110001110010101001010110010100101101111010110010110001101111100101010110000001100000100100101010',\n",
       " 0.0056163938903808575,\n",
       " -0.44794136718749983]"
      ]
     },
     "execution_count": 31,
     "metadata": {},
     "output_type": "execute_result"
    }
   ],
   "source": [
    "compressor.total_compress(mesh_data['points'])"
   ]
  },
  {
   "cell_type": "code",
   "execution_count": null,
   "metadata": {},
   "outputs": [],
   "source": []
  }
 ],
 "metadata": {
  "kernelspec": {
   "display_name": "venv",
   "language": "python",
   "name": "python3"
  },
  "language_info": {
   "codemirror_mode": {
    "name": "ipython",
    "version": 3
   },
   "file_extension": ".py",
   "mimetype": "text/x-python",
   "name": "python",
   "nbconvert_exporter": "python",
   "pygments_lexer": "ipython3",
   "version": "3.11.4"
  },
  "orig_nbformat": 4
 },
 "nbformat": 4,
 "nbformat_minor": 2
}
