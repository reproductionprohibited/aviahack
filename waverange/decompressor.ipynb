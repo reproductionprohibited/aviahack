{
 "cells": [
  {
   "cell_type": "code",
   "execution_count": 8,
   "metadata": {},
   "outputs": [],
   "source": [
    "from entropy_compressor import ZCompressor\n",
    "from quantizator import Quantizator\n",
    "from wavelet_compressor import WaveletCompressor\n",
    "\n",
    "import os\n",
    "import shutil\n",
    "import numpy as np\n",
    "from typing import Dict, List\n",
    "from pathlib import Path\n",
    "from pprint import pprint\n",
    "\n",
    "COMPRESS_PATH = 'compressed_low'\n",
    "DECOMPRESS_PATH = 'decompressed'\n",
    "IMAGE_NAME = 'low.png'\n",
    "MESH_KEYS = ['faces', 'neighbour', 'owner', 'points']\n",
    "PTURHO_KEYS = ['p', 'T', 'U', 'rho']\n",
    "\n",
    "class Decompressor:\n",
    "    def __init__(self):\n",
    "        if not os.path.exists(DECOMPRESS_PATH):\n",
    "            os.mkdir(DECOMPRESS_PATH)\n",
    "        self.entropy_compressor = ZCompressor()\n",
    "        self.quantizator = Quantizator()\n",
    "        self.wavelet_compressor = WaveletCompressor()\n",
    "    \n",
    "    def total_decompress(self, compressed_data: str, q_step: np.float64, min_val: np.float64) -> np.ndarray:\n",
    "        huffman_decoded = self.entropy_compressor.decompress(bytes.fromhex(compressed_data))\n",
    "        dequantized = self.quantizator.dequantize(huffman_decoded, q_step, min_val)\n",
    "        decompressed = self.wavelet_compressor.inverse_wavelet_transform(dequantized)\n",
    "\n",
    "        return decompressed\n",
    "\n",
    "    def load_to_file(self, data: List[np.ndarray | np.float64], file_path: str, header_data: dict[str]) -> None:\n",
    "        huffman_compressed, q_step, min_val = data\n",
    "        decompressed = self.total_decompress(huffman_compressed, q_step, min_val)\n",
    "        \n",
    "    def read_mesh_file(self, file_path: str) -> Dict[str, List[np.ndarray | np.float64]]:\n",
    "        data = {}\n",
    "        for key in MESH_KEYS:\n",
    "            data[key] = None\n",
    "        i = 0\n",
    "        with open(file_path, mode='r') as f:\n",
    "            while True:\n",
    "                # Read the first line\n",
    "                quantilization_keys = f.readline().strip()\n",
    "                # Read the second line\n",
    "                huffman_compressed = f.readline().strip()\n",
    "\n",
    "                # Check if either line is empty, indicating the end of the file\n",
    "                if not quantilization_keys or not huffman_compressed:\n",
    "                    break\n",
    "                \n",
    "                q_step, min_val = map(float, quantilization_keys.split())\n",
    "                data[MESH_KEYS[i]] = [huffman_compressed, q_step, min_val]\n",
    "                i += 1\n",
    "        return data\n",
    "    \n",
    "    def read_pturho_file(self, file_path: str) -> Dict[str, List[np.ndarray | np.float64]]:\n",
    "        data = {}\n",
    "        i = 0\n",
    "        with open(file_path, mode='r') as f:\n",
    "            times = f.readline().strip().split(';')\n",
    "            for key in times:\n",
    "                data[key] = None\n",
    "            while True:\n",
    "                quantilization_keys_p = f.readline().strip()\n",
    "                huffman_compressed_p = f.readline().strip()\n",
    "\n",
    "                quantilization_keys_t = f.readline().strip()\n",
    "                huffman_compressed_t = f.readline().strip()\n",
    "\n",
    "                quantilization_keys_u = f.readline().strip()\n",
    "                huffman_compressed_u = f.readline().strip()\n",
    "\n",
    "                quantilization_keys_rho = f.readline().strip()\n",
    "                huffman_compressed_rho = f.readline().strip()\n",
    "\n",
    "                # Check if either line is empty, indicating the end of the file\n",
    "                if not quantilization_keys_p or not huffman_compressed_p:\n",
    "                    break\n",
    "                \n",
    "                q_step_p, min_val_p = map(float, quantilization_keys_p.split())\n",
    "                q_step_t, min_val_t = map(float, quantilization_keys_t.split())\n",
    "                q_step_u, min_val_u = map(float, quantilization_keys_u.split())\n",
    "                q_step_rho, min_val_rho = map(float, quantilization_keys_rho.split())\n",
    "                data[times[i]] = [\n",
    "                    [huffman_compressed_p, q_step_p, min_val_p],\n",
    "                    [huffman_compressed_t, q_step_t, min_val_t],\n",
    "                    [huffman_compressed_u, q_step_u, min_val_u],\n",
    "                    [huffman_compressed_rho, q_step_rho, min_val_rho],\n",
    "                ]\n",
    "                i += 1\n",
    "        return data\n",
    "\n",
    "    def copy_back_not_compressed_piece(self, file_path: str, destination_path: str) -> None:\n",
    "        # shutil\n",
    "        pass"
   ]
  },
  {
   "cell_type": "code",
   "execution_count": 9,
   "metadata": {},
   "outputs": [],
   "source": [
    "decompressor = Decompressor()\n",
    "mesh_data = decompressor.read_mesh_file('compressed_low/mesh')"
   ]
  },
  {
   "cell_type": "code",
   "execution_count": 10,
   "metadata": {},
   "outputs": [
    {
     "name": "stdout",
     "output_type": "stream",
     "text": [
      "b'x\\x9cU\\x95mL\\x97U\\x18\\xc6OQ\\xac\\t\\xab\\xb6\\xe4\\x83\\xce\\xe5\\xd3\\xd0\\xda\\xdf9Wj\\xbc8\\x8bck4\\x9bP1\\x9d\\xcc\\xc2\\x1eEKg\\x99\\xab\\xe8\\xc5F;\\x8d\\x19\\x96_X\\x0e\\x97\\xd8\\xe4\\xc1\\xb1\\xfdq:\\x87/I\\x81\\xe4#\\xe0\\x0b\"\\xa1(9Q\\xf2\\x91\\x14\\x14\\x14u2u\\xb6\\xd9\\x0b\\xd7\\xaf\\x0f\\xfd\\xbf\\\\\\xbb\\xaf\\xeb\\xbe\\xefs\\xce\\xfd\\x9cs\\xfd\\x8d\\xf9\\xe7\\x97Qg\\xff\\x05\\xb3f\\xbf\\xd0\\x1e\\x15\\xae\\xfeU8\\xd4(\\x9cph\\x04]g\\xab\\xe2/\\x0f\\x0b\\x1f\\xfbY\\xfc\\xb8\\x03\\x8a\\xabT\\xef\\x06\\xdb\\x15\\x174\\t\\xbd6\\xf1/\\x80\\x9f\\x1f\\x14\\xffv(\\\\\\xab\\xd8\\x85\\xd4\\xb5u\\x08\\xb74\\x0b;\\xe8[\\xac}\\xb9\\xd81a\\xa6t\\xb7\\xf8\\x880\\xe7\\xf8\\x08\\x86y\\'\\x14\\x97\\xd1w\\x03\\xeb\\x0eI7\\x0f\\xa17\\xea<\\xd6*6\\xaf\\xc1w\\xab\\xbf\\tuNw\\x99\\xf5\\xca:\\xd5\\xbf\\xfc\\xa4\\xe2\\xd7\\xe9[\\xa8\\xba\\xb0\\x1f\\xfd}\\xfa\\xccfN\\xb3\\x98k\\xbb\\xea\\xcc\\xf4\\xd3\\xc2r\\xd5\\x9b\\xf1:\\xb7=~F\\xf1\\xd4H\\xf1g\\xe7G0\\xda\\xd5+~\\xc5%\\xf5M\\x06?\\x95\\xee/\\x95\\x1e\\xd6_T\\xde\\x17B?S}\\xcc\\x00z\\x8a\\xeal#y\\x0b/\\x8c\\xa0\\xb7\\x96x\\xb9\\xf4\\xe8\\xe6\\x1f\\xca\\x8f\\x9f\\xa5\\x8e>w\\x94\\xe7\\xbd\\xd8\\'\\xbeO|\\xf4\\xbd\\xf2\\xdd]\\xd5\\xfb\\xbb\\xe8S\\xaa\\xfe.Cuv\\tuI\\xc2\\xa0_z\\x10\\x97\\xeej\\xc5\\xbb4\\xa1mQ_\\xbb\\x1d~e\\xbf\\xe2\\x99\\x8aM\\xa2\\xe6\\x15\\x96\\xf4H\\xaf\\xd4\\xba\\xa6Yy~\\x11\\xeb\\x16(v\\xe3/\\x8b\\xbfF\\xfdD\\xf5\\x0f\\xba\\xd8\\xf7\\x03\\xd2\\xa3\\x1a\\xe5{\\xb3\\xd0\\x9b\\xa5{\\xf9\\xd2\\xbd%\\xc2\\xf0\\x1d\\xe6\\xfc\\x97\\xf2\\xcd\\x9b\\xe2m\\xaa\\xfa\\xfb+5\\x1fW\\xd8+~\\n\\xfa\\xcb\\x03\\xea\\x13\\xa9>\\xd8\\xcc~\\xdf\\xbb\\xa2\\xf5\\xbbY\\xa7Iz\\xf8a?y\\xd2M6y[9\\xdf}\\xd6\\xfb\\x13~\\x85\\xfa\\xbb\"\\xce9\\x8ex\\xcc\\xc0\\xff\\xce\\xe7nk_.\\xc6\\xf7\\xbe)\\xdd\\x98\\x1b\\xc27X\\x9f{\\xe3m\\x1eT}\\xd1u\\xe9\\xe1\\x8f\\xaa\\xaf\\xe5\\x9eO\\xc7/\\xf8\\x85\\xc3\\xea\\xefw\\xd2\\x7f\\'\\xfdw\\x0f\\t\\xeby\\xd7;xG\\xe9z\\x17\\xf6\\xe9\\x1e\\xf2\\x1a\\xc4w\\xe0\\x13\\x1f\\xe8\\x1d\\xda$\\xde\\xdb\\x93\\xbc\\xe7G~S\\x1c?\\xa5\\xf8\\xa0|\"L\\xe6{o\\xbf*\\xfe\\'\\xed\\xdf\\xb61\\xef\\x01\\xed\\xc7\\x16\\xeb<\\xfe\\x1e\\xe5Y\\xee\\x81\\xdd\\xa8\\xfb\\xe5*x\\x8f\\xdc\\x07\\xb7N\\xf7\\xd6L\\xd2\\xfb0\\x17\\x95\\x17\\xe4s\\x8fo\\xe8;\\x84s\\xd0?\\x16F\\x15|\\xefT\\xbe\\xa3\\xbfW\\xf8n\\xbd\\xf0\\xad\\xdd\\xc2\\xdbq\\xe1\\x1a\\xe6\\xb9\\x89\\xf3O\\x04\\xd3\\xe1\\x0b\\xf7\\tG\\xc1?\\x83\\x8f\\x8f\\x16\\xef\\x06\\x9b\\x84\\xcd-\\xc2\\x1c\\xa1i\\x81_\\x00NE\\xdf\\x87\\xdfN\\x13oj\\xe8w\\x1a\\x7fO\\x02\\xe7\\xff\\xa2y\\x94\\xe1su\\xf8g\\xa2\\xfc-<\\n\\xa6\\x8a\\xb7\\xb9\\xe4m\\x90?\\xday\\xf8g5~x\\x8cxl\\x97\\xf4\\xf3]\\xcc\\x03\\xbe\\x84~\\'N\\xd1G\\xba{\\x02~\\x86\\xd0~\\xc3\\xf7\\xcf\\x95\\x1ef\\x11\\xbfJ\\xdd&\\xf2\\xd3X\\xf7\\x02\\xf3X\\xa4\\xff\\xb7p\\x19\\xf7o\\xfd\\xef\\xe2\\xd3\\xf8\\x1f\\xcc\\xd4=\\xb3[\\xc5G\\xa5\\xdc\\xe7\\xaa^\\xc5\\xab\\x14G\\xad\\xf8\\xe9s\\xba/^\\t\\xfe\\xf8\\n|\\x02\\xf7&\\x0f\\xfdY\\xf4a\\xe2Z|\\xf6\\xbe|\\xdd\\xd6\\xe3\\xffU\\xe8\\x05\\xe8\\xf9\\xe2\\x83C\\xea\\xe7\\xaf\\xd3>\\\\\\xb6\\xd0/\\xc7W?B\\xcf@\\xbfE\\xfc\\x12\\xbaG|\\t\\x9f\\x0e\\x88\\xafk\\x9d\\xa0]\\xe8\\x7f\\x87\\x9e\\x83\\xfe\\x03\\xfaj\\xf4,\\xf4{\\xc4\\xb3\\xc1\\x85Z\\xd7\\xcc\\xd4|\\xcc\\x10\\xf3\\x9a \\x0cb`7X)\\xb4\\x0fRWqN\\xe7\\xfe\\n\\xdf\\xefc\\xee\\xc3\\xdc\\x8fb\\xdew5~\\\\\\xa7w\\xe5\\xcd\\xc3_\\xc7\\x8aw\\xb9\\xe0\\x02\\xf4+\\xbc\\xbf\\xc9\\xca\\x0b\\xb2\\xf0\\xa5\\x02\\xf9\\x83y\\x14\\xbf8\\xa3\\xbc\\xe0*\\xf9\\xa3\\xd0\\x1b\\xc0\\xaf\\xd17\\xe2\\xbb{\\xe9\\xb3\\x0c}\\x1a\\xfa\\x7f~]\\x88\\x9e\\x82\\x1ei_\\xc1-\\xfew\\x1eGo\\x12\\xfa\\xad\\xc4=\\xc4\\xf7T\\xe7o\\xd3\\xfe\\xfcO\\xd0\\xbfE\\x8f\\xa3\\xe7\\xa3\\xa7\\xa2\\xa7\\xa3\\xcfE\\x7fXzp\\x17\\x9fK\\xd6\\xfe\\\\\\x8cyt\\xf3\\x7f\\x91\"\\x9f\\xb61\\xa1\\xcb\\x96O\\xba;B\\xfb\\x14\\xe7x\\x1e_\\xcdc\\xdd\\x84k\\xf6o\\x1f\\xe0\\x80n' 0.012706995010375975 -42.71875000000001\n"
     ]
    },
    {
     "ename": "error",
     "evalue": "Error -3 while decompressing data: incorrect header check",
     "output_type": "error",
     "traceback": [
      "\u001b[0;31m---------------------------------------------------------------------------\u001b[0m",
      "\u001b[0;31merror\u001b[0m                                     Traceback (most recent call last)",
      "Cell \u001b[0;32mIn[10], line 3\u001b[0m\n\u001b[1;32m      1\u001b[0m faces, qstep, minval \u001b[39m=\u001b[39m mesh_data[\u001b[39m'\u001b[39m\u001b[39mfaces\u001b[39m\u001b[39m'\u001b[39m]\n\u001b[1;32m      2\u001b[0m \u001b[39mprint\u001b[39m(faces, qstep, minval)\n\u001b[0;32m----> 3\u001b[0m decompressed_faces \u001b[39m=\u001b[39m decompressor\u001b[39m.\u001b[39;49mtotal_decompress(faces, qstep, minval)\n",
      "Cell \u001b[0;32mIn[8], line 27\u001b[0m, in \u001b[0;36mDecompressor.total_decompress\u001b[0;34m(self, compressed_data, q_step, min_val)\u001b[0m\n\u001b[1;32m     26\u001b[0m \u001b[39mdef\u001b[39;00m \u001b[39mtotal_decompress\u001b[39m(\u001b[39mself\u001b[39m, compressed_data: \u001b[39mstr\u001b[39m, q_step: np\u001b[39m.\u001b[39mfloat64, min_val: np\u001b[39m.\u001b[39mfloat64) \u001b[39m-\u001b[39m\u001b[39m>\u001b[39m np\u001b[39m.\u001b[39mndarray:\n\u001b[0;32m---> 27\u001b[0m     huffman_decoded \u001b[39m=\u001b[39m \u001b[39mself\u001b[39;49m\u001b[39m.\u001b[39;49mentropy_compressor\u001b[39m.\u001b[39;49mdecompress(\u001b[39mbytes\u001b[39;49m(compressed_data, encoding\u001b[39m=\u001b[39;49m\u001b[39m'\u001b[39;49m\u001b[39mutf-8\u001b[39;49m\u001b[39m'\u001b[39;49m))\n\u001b[1;32m     28\u001b[0m     dequantized \u001b[39m=\u001b[39m \u001b[39mself\u001b[39m\u001b[39m.\u001b[39mquantizator\u001b[39m.\u001b[39mdequantize(huffman_decoded, q_step, min_val)\n\u001b[1;32m     29\u001b[0m     decompressed \u001b[39m=\u001b[39m \u001b[39mself\u001b[39m\u001b[39m.\u001b[39mwavelet_compressor\u001b[39m.\u001b[39minverse_wavelet_transform(dequantized)\n",
      "File \u001b[0;32m~/Desktop/aviahack/waverange/entropy_compressor.py:11\u001b[0m, in \u001b[0;36mZCompressor.decompress\u001b[0;34m(self, compressed)\u001b[0m\n\u001b[1;32m     10\u001b[0m \u001b[39mdef\u001b[39;00m \u001b[39mdecompress\u001b[39m(\u001b[39mself\u001b[39m, compressed: \u001b[39mbytes\u001b[39m) \u001b[39m-\u001b[39m\u001b[39m>\u001b[39m np\u001b[39m.\u001b[39mndarray:\n\u001b[0;32m---> 11\u001b[0m     \u001b[39mreturn\u001b[39;00m np\u001b[39m.\u001b[39mfrombuffer(zlib\u001b[39m.\u001b[39;49mdecompress(compressed), dtype\u001b[39m=\u001b[39mnp\u001b[39m.\u001b[39mfloat64)\n",
      "\u001b[0;31merror\u001b[0m: Error -3 while decompressing data: incorrect header check"
     ]
    }
   ],
   "source": [
    "faces, qstep, minval = mesh_data['faces']\n",
    "print(faces, qstep, minval)\n",
    "decompressed_faces = decompressor.total_decompress(faces, qstep, minval)"
   ]
  },
  {
   "cell_type": "code",
   "execution_count": null,
   "metadata": {},
   "outputs": [],
   "source": []
  }
 ],
 "metadata": {
  "kernelspec": {
   "display_name": "venv",
   "language": "python",
   "name": "python3"
  },
  "language_info": {
   "codemirror_mode": {
    "name": "ipython",
    "version": 3
   },
   "file_extension": ".py",
   "mimetype": "text/x-python",
   "name": "python",
   "nbconvert_exporter": "python",
   "pygments_lexer": "ipython3",
   "version": "3.11.4"
  },
  "orig_nbformat": 4
 },
 "nbformat": 4,
 "nbformat_minor": 2
}
