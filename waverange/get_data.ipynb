{
 "cells": [
  {
   "cell_type": "code",
   "execution_count": 1,
   "metadata": {},
   "outputs": [],
   "source": [
    "from functools import wraps\n",
    "from pathlib import Path\n",
    "from typing import Union, List, Dict\n",
    "import os\n",
    "import json\n",
    "from multiprocessing import Pool\n",
    "from pprint import pprint\n",
    "\n",
    "import numpy as np\n",
    "import openfoamparser_mai as Ofpp\n",
    "import pyvista"
   ]
  },
  {
   "cell_type": "code",
   "execution_count": 2,
   "metadata": {},
   "outputs": [],
   "source": [
    "LOW_DIM_PATH = 'low_dim'\n",
    "HIGH_DIM_PATH = 'high_dim'\n",
    "CONSTANT_PATH = 'constant'\n",
    "POLYMESH_PATH = 'polyMesh'\n",
    "SYSTEM_PATH = 'system'"
   ]
  },
  {
   "cell_type": "code",
   "execution_count": 3,
   "metadata": {},
   "outputs": [],
   "source": [
    "def get_vel_data(\n",
    "    vel: str,\n",
    "    base_path: str = 'data',\n",
    "    model: str = 'data_wage',\n",
    "    dimpath: str = 'low_dim',\n",
    ") -> Dict[str, List[np.ndarray]]:\n",
    "    parsepath = Path(\n",
    "        '/'.join([\n",
    "            base_path,\n",
    "            model,\n",
    "            dimpath,\n",
    "            vel,\n",
    "        ])\n",
    "    )\n",
    "    time_paths = sorted(list(parsepath.iterdir()))[1:-2]\n",
    "    veldata = {}\n",
    "    for time_path in time_paths:\n",
    "        time_path = Path(time_path)\n",
    "        p = Ofpp.parse_internal_field(time_path / Path('p'))\n",
    "        t = Ofpp.parse_internal_field(time_path / Path('T'))\n",
    "        u = Ofpp.parse_internal_field(time_path / Path('U'))\n",
    "        rho = Ofpp.parse_internal_field(time_path / Path('rho'))\n",
    "\n",
    "        key = str(time_path).split('/')[-1]\n",
    "        veldata[key] = [p, t, u, rho]\n",
    "    return veldata"
   ]
  },
  {
   "cell_type": "code",
   "execution_count": null,
   "metadata": {},
   "outputs": [],
   "source": []
  },
  {
   "cell_type": "code",
   "execution_count": 4,
   "metadata": {},
   "outputs": [],
   "source": [
    "def get_all_dim_data(\n",
    "    base_path: str = 'data',\n",
    "    model: str = 'data_wage',\n",
    "    dimpath: str = 'low_dim',\n",
    "):\n",
    "    parsepath = Path(\n",
    "        '/'.join([\n",
    "            base_path,\n",
    "            model,\n",
    "            dimpath,\n",
    "        ])\n",
    "    )\n",
    "    dimdata = {}\n",
    "    # return sorted(list(parsepath.iterdir()))[1:]\n",
    "    for velpath in sorted(list(parsepath.iterdir()))[1:]:\n",
    "        velpath = Path(velpath)\n",
    "        key = str(velpath).split('/')[-1]\n",
    "        dimdata[key] = get_vel_data(\n",
    "            vel=key,\n",
    "            base_path=base_path,\n",
    "            model=model,\n",
    "            dimpath=dimpath,\n",
    "        )\n",
    "    mesh: Ofpp.FoamMesh = Ofpp.FoamMesh(parsepath / Path('vel3.0'))\n",
    "\n",
    "    dimdata['mesh'] = {\n",
    "        'faces': mesh.faces,\n",
    "        'boundary': mesh.boundary,\n",
    "        'neighbour': mesh.neighbour,\n",
    "        'owner': mesh.owner,\n",
    "        'points': mesh.points,\n",
    "    }\n",
    "    return dimdata"
   ]
  },
  {
   "cell_type": "code",
   "execution_count": 5,
   "metadata": {},
   "outputs": [],
   "source": [
    "dimdata = get_all_dim_data()"
   ]
  },
  {
   "cell_type": "code",
   "execution_count": 8,
   "metadata": {},
   "outputs": [
    {
     "data": {
      "text/plain": [
       "0"
      ]
     },
     "execution_count": 8,
     "metadata": {},
     "output_type": "execute_result"
    }
   ],
   "source": [
    "mesh: Ofpp.FoamMesh = dimdata['mesh']\n",
    "\n",
    "faces = mesh['faces']\n",
    "np.min(faces)"
   ]
  },
  {
   "cell_type": "code",
   "execution_count": 9,
   "metadata": {},
   "outputs": [
    {
     "data": {
      "text/plain": [
       "191"
      ]
     },
     "execution_count": 9,
     "metadata": {},
     "output_type": "execute_result"
    }
   ],
   "source": [
    "np.max(faces)"
   ]
  },
  {
   "cell_type": "code",
   "execution_count": 10,
   "metadata": {},
   "outputs": [
    {
     "name": "stdout",
     "output_type": "stream",
     "text": [
      "Package            Version\n",
      "------------------ ----------\n",
      "appnope            0.1.3\n",
      "asttokens          2.4.1\n",
      "certifi            2023.11.17\n",
      "charset-normalizer 3.3.2\n",
      "comm               0.2.0\n",
      "constriction       0.3.2\n",
      "contourpy          1.2.0\n",
      "cycler             0.12.1\n",
      "debugpy            1.8.0\n",
      "decorator          5.1.1\n",
      "executing          2.0.1\n",
      "fonttools          4.46.0\n",
      "idna               3.6\n",
      "ipykernel          6.27.1\n",
      "ipython            8.18.1\n",
      "jedi               0.19.1\n",
      "jupyter_client     8.6.0\n",
      "jupyter_core       5.5.0\n",
      "kiwisolver         1.4.5\n",
      "matplotlib         3.8.2\n",
      "matplotlib-inline  0.1.6\n",
      "nest-asyncio       1.5.8\n",
      "numpy              1.25.2\n",
      "openfoamparser-mai 0.14\n",
      "packaging          23.2\n",
      "parso              0.8.3\n",
      "pexpect            4.9.0\n",
      "Pillow             10.1.0\n",
      "pip                23.1.2\n",
      "platformdirs       4.1.0\n",
      "pooch              1.8.0\n",
      "prompt-toolkit     3.0.41\n",
      "psutil             5.9.6\n",
      "ptyprocess         0.7.0\n",
      "pure-eval          0.2.2\n",
      "Pygments           2.17.2\n",
      "pyparsing          3.1.1\n",
      "python-dateutil    2.8.2\n",
      "pyvista            0.43.0\n",
      "PyWavelets         1.5.0\n",
      "pyzmq              25.1.2\n",
      "requests           2.31.0\n",
      "scipy              1.11.4\n",
      "scooby             0.9.2\n",
      "setuptools         65.5.0\n",
      "six                1.16.0\n",
      "stack-data         0.6.3\n",
      "tornado            6.4\n",
      "traitlets          5.14.0\n",
      "trimesh            4.0.5\n",
      "urllib3            2.1.0\n",
      "vtk                9.3.0\n",
      "wcwidth            0.2.12\n",
      "\n",
      "\u001b[1m[\u001b[0m\u001b[34;49mnotice\u001b[0m\u001b[1;39;49m]\u001b[0m\u001b[39;49m A new release of pip is available: \u001b[0m\u001b[31;49m23.1.2\u001b[0m\u001b[39;49m -> \u001b[0m\u001b[32;49m23.3.1\u001b[0m\n",
      "\u001b[1m[\u001b[0m\u001b[34;49mnotice\u001b[0m\u001b[1;39;49m]\u001b[0m\u001b[39;49m To update, run: \u001b[0m\u001b[32;49mpip install --upgrade pip\u001b[0m\n"
     ]
    }
   ],
   "source": [
    "!pip list"
   ]
  },
  {
   "cell_type": "markdown",
   "metadata": {},
   "source": []
  },
  {
   "cell_type": "code",
   "execution_count": 13,
   "metadata": {},
   "outputs": [
    {
     "name": "stdout",
     "output_type": "stream",
     "text": [
      "2.465190328815662e-31\n",
      "176\n",
      "88\n"
     ]
    }
   ],
   "source": [
    "from functools import wraps\n",
    "from pathlib import Path\n",
    "from typing import Union, List, Dict\n",
    "from multiprocessing import Pool\n",
    "from pprint import pprint\n",
    "import sys\n",
    "\n",
    "import numpy as np\n",
    "import pywt\n",
    "\n",
    "from math import pi\n",
    "e = 2.718281828459045\n",
    "\n",
    "\n",
    "class WaveletCompressor:\n",
    "    def __init__(self, threshold: float = 0.1):\n",
    "        self.threshold = threshold\n",
    "\n",
    "    def get_size(self, data: np.ndarray):\n",
    "        return sys.getsizeof(data)\n",
    "\n",
    "    def wavelet_transform(self, data, level=2):\n",
    "        \"\"\" Perform the nD CDF 9/7 wavelet transform \"\"\"\n",
    "        coeffs = pywt.wavedecn(data, 'bior2.2', level=level)\n",
    "        return coeffs\n",
    "\n",
    "    def inverse_wavelet_transform(self, coeffs):\n",
    "        \"\"\" Perform the inverse nD CDF 9/7 wavelet transform \"\"\"\n",
    "        reconstructed_data = pywt.waverecn(coeffs, 'bior2.2')\n",
    "\n",
    "        return reconstructed_data\n",
    "\n",
    "    def mean_squared_error(self, image1, image2):\n",
    "        return np.mean((image1 - image2) ** 2)\n",
    "\n",
    "\n",
    "image_data = np.array([e, pi, e, pi, e, pi, e, pi], dtype=np.float64)\n",
    "# image_data = np.random.rand(5, 5, 5) * 1000000\n",
    "# print(np.max(image_data))\n",
    "# print(np.min(image_data))\n",
    "compressor = WaveletCompressor()\n",
    "\n",
    "wavelet_coeffs = compressor.wavelet_transform(image_data, level=2)\n",
    "\n",
    "reconstructed_image = compressor.inverse_wavelet_transform(wavelet_coeffs)\n",
    "\n",
    "print(compressor.mean_squared_error(image_data, reconstructed_image))\n",
    "print(compressor.get_size(image_data))\n",
    "print(compressor.get_size(wavelet_coeffs))\n"
   ]
  }
 ],
 "metadata": {
  "kernelspec": {
   "display_name": "venv",
   "language": "python",
   "name": "python3"
  },
  "language_info": {
   "codemirror_mode": {
    "name": "ipython",
    "version": 3
   },
   "file_extension": ".py",
   "mimetype": "text/x-python",
   "name": "python",
   "nbconvert_exporter": "python",
   "pygments_lexer": "ipython3",
   "version": "3.11.4"
  },
  "orig_nbformat": 4
 },
 "nbformat": 4,
 "nbformat_minor": 2
}
