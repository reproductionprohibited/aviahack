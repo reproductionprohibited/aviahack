{
 "cells": [
  {
   "cell_type": "code",
   "execution_count": 1,
   "metadata": {},
   "outputs": [],
   "source": [
    "from functools import wraps\n",
    "from pathlib import Path\n",
    "from typing import Union, List, Dict\n",
    "import os\n",
    "import json\n",
    "from multiprocessing import Pool\n",
    "from pprint import pprint\n",
    "\n",
    "import numpy as np\n",
    "import openfoamparser_mai as Ofpp\n",
    "import pyvista"
   ]
  },
  {
   "cell_type": "code",
   "execution_count": 2,
   "metadata": {},
   "outputs": [],
   "source": [
    "LOW_DIM_PATH = 'low_dim'\n",
    "HIGH_DIM_PATH = 'high_dim'\n",
    "CONSTANT_PATH = 'constant'\n",
    "POLYMESH_PATH = 'polyMesh'\n",
    "SYSTEM_PATH = 'system'"
   ]
  },
  {
   "cell_type": "code",
   "execution_count": 3,
   "metadata": {},
   "outputs": [],
   "source": [
    "def get_vel_data(\n",
    "    vel: str,\n",
    "    base_path: str = 'data',\n",
    "    model: str = 'data_wage',\n",
    "    dimpath: str = 'low_dim',\n",
    ") -> Dict[str, List[np.ndarray]]:\n",
    "    parsepath = Path(\n",
    "        '/'.join([\n",
    "            base_path,\n",
    "            model,\n",
    "            dimpath,\n",
    "            vel,\n",
    "        ])\n",
    "    )\n",
    "    time_paths = sorted(list(parsepath.iterdir()))[1:-2]\n",
    "    veldata = {}\n",
    "    for time_path in time_paths:\n",
    "        time_path = Path(time_path)\n",
    "        p = Ofpp.parse_internal_field(time_path / Path('p'))\n",
    "        t = Ofpp.parse_internal_field(time_path / Path('T'))\n",
    "        u = Ofpp.parse_internal_field(time_path / Path('U'))\n",
    "        rho = Ofpp.parse_internal_field(time_path / Path('rho'))\n",
    "\n",
    "        key = str(time_path).split('/')[-1]\n",
    "        veldata[key] = [p, t, u, rho]\n",
    "    return veldata"
   ]
  },
  {
   "cell_type": "code",
   "execution_count": 4,
   "metadata": {},
   "outputs": [],
   "source": [
    "def get_all_dim_data(\n",
    "    base_path: str = 'data',\n",
    "    model: str = 'data_wage',\n",
    "    dimpath: str = 'low_dim',\n",
    "):\n",
    "    parsepath = Path(\n",
    "        '/'.join([\n",
    "            base_path,\n",
    "            model,\n",
    "            dimpath,\n",
    "        ])\n",
    "    )\n",
    "    dimdata = {}\n",
    "    # return sorted(list(parsepath.iterdir()))[1:]\n",
    "    for velpath in sorted(list(parsepath.iterdir()))[1:]:\n",
    "        velpath = Path(velpath)\n",
    "        key = str(velpath).split('/')[-1]\n",
    "        dimdata[key] = get_vel_data(\n",
    "            vel=key,\n",
    "            base_path=base_path,\n",
    "            model=model,\n",
    "            dimpath=dimpath,\n",
    "        )\n",
    "    mesh: Ofpp.FoamMesh = Ofpp.FoamMesh(parsepath / Path('vel3.0'))\n",
    "\n",
    "    dimdata['mesh'] = {\n",
    "        'faces': mesh.faces,\n",
    "        'boundary': mesh.boundary,\n",
    "        'neighbour': mesh.neighbour,\n",
    "        'owner': mesh.owner,\n",
    "        'points': mesh.points,\n",
    "    }\n",
    "    return dimdata"
   ]
  },
  {
   "cell_type": "code",
   "execution_count": 5,
   "metadata": {},
   "outputs": [],
   "source": [
    "dimdata = get_all_dim_data()"
   ]
  },
  {
   "cell_type": "code",
   "execution_count": 8,
   "metadata": {},
   "outputs": [
    {
     "data": {
      "text/plain": [
       "0"
      ]
     },
     "execution_count": 8,
     "metadata": {},
     "output_type": "execute_result"
    }
   ],
   "source": [
    "mesh: Ofpp.FoamMesh = dimdata['mesh']\n",
    "\n",
    "faces = mesh['faces']\n",
    "np.min(faces)"
   ]
  },
  {
   "cell_type": "code",
   "execution_count": 9,
   "metadata": {},
   "outputs": [
    {
     "data": {
      "text/plain": [
       "191"
      ]
     },
     "execution_count": 9,
     "metadata": {},
     "output_type": "execute_result"
    }
   ],
   "source": [
    "np.max(faces)"
   ]
  },
  {
   "cell_type": "code",
   "execution_count": null,
   "metadata": {},
   "outputs": [],
   "source": []
  }
 ],
 "metadata": {
  "kernelspec": {
   "display_name": "venv",
   "language": "python",
   "name": "python3"
  },
  "language_info": {
   "codemirror_mode": {
    "name": "ipython",
    "version": 3
   },
   "file_extension": ".py",
   "mimetype": "text/x-python",
   "name": "python",
   "nbconvert_exporter": "python",
   "pygments_lexer": "ipython3",
   "version": "3.11.4"
  },
  "orig_nbformat": 4
 },
 "nbformat": 4,
 "nbformat_minor": 2
}
