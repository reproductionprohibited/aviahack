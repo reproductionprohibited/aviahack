{
 "cells": [
  {
   "cell_type": "code",
   "execution_count": 1,
   "metadata": {},
   "outputs": [],
   "source": [
    "import openfoamparser_mai as Ofpp"
   ]
  },
  {
   "cell_type": "code",
   "execution_count": 10,
   "metadata": {},
   "outputs": [],
   "source": [
    "points=Ofpp.parse_internal_field(r'data\\0.3M\\150\\C')"
   ]
  },
  {
   "cell_type": "code",
   "execution_count": 11,
   "metadata": {},
   "outputs": [
    {
     "data": {
      "text/plain": [
       "array([[-40.39315515, -22.57750643, -20.33994717],\n",
       "       [-37.98364112, -22.5775064 , -20.33994713],\n",
       "       [-35.43069831, -22.57750636, -20.33994705],\n",
       "       [-32.72578898, -22.5775063 , -20.33994694],\n",
       "       [-29.85986718, -22.57750622, -20.33994679],\n",
       "       [-26.8233485 , -22.57750613, -20.33994663],\n",
       "       [-23.60607797, -22.57750603, -20.33994644],\n",
       "       [-20.19729614, -22.57750592, -20.33994624],\n",
       "       [-16.58560308, -22.57750581, -20.33994604],\n",
       "       [-12.75892025, -22.57750571, -20.33994585]])"
      ]
     },
     "execution_count": 11,
     "metadata": {},
     "output_type": "execute_result"
    }
   ],
   "source": [
    "points[:10]"
   ]
  },
  {
   "cell_type": "code",
   "execution_count": 12,
   "metadata": {},
   "outputs": [],
   "source": [
    "p = Ofpp.parse_internal_field(r'data\\0.3M\\150\\p')"
   ]
  },
  {
   "cell_type": "code",
   "execution_count": 13,
   "metadata": {},
   "outputs": [
    {
     "data": {
      "text/plain": [
       "array([100046.81207167, 100046.56622423, 100045.86529747, 100044.74272095,\n",
       "       100043.08157865, 100040.62947846, 100037.05666786, 100031.91679094,\n",
       "       100024.61835525, 100014.47989681])"
      ]
     },
     "execution_count": 13,
     "metadata": {},
     "output_type": "execute_result"
    }
   ],
   "source": [
    "p[:10]"
   ]
  },
  {
   "cell_type": "code",
   "execution_count": 14,
   "metadata": {},
   "outputs": [],
   "source": [
    "u = Ofpp.parse_internal_field(r'data\\0.3M\\150\\U')"
   ]
  },
  {
   "cell_type": "code",
   "execution_count": 15,
   "metadata": {},
   "outputs": [
    {
     "data": {
      "text/plain": [
       "array([[ 1.02090463e+02, -6.09480417e-05, -3.96101153e-04],\n",
       "       [ 1.02092652e+02, -2.16356920e-04, -1.40471525e-03],\n",
       "       [ 1.02097987e+02, -4.55809794e-04, -2.84804526e-03],\n",
       "       [ 1.02106698e+02, -8.13602547e-04, -4.75665159e-03],\n",
       "       [ 1.02119786e+02, -1.34703825e-03, -7.23344751e-03],\n",
       "       [ 1.02139080e+02, -2.13931950e-03, -1.04487965e-02],\n",
       "       [ 1.02167124e+02, -3.29759623e-03, -1.46329998e-02],\n",
       "       [ 1.02207364e+02, -4.93486234e-03, -2.00757307e-02],\n",
       "       [ 1.02264253e+02, -7.13105347e-03, -2.70564546e-02],\n",
       "       [ 1.02342588e+02, -9.76126036e-03, -3.57827163e-02]])"
      ]
     },
     "execution_count": 15,
     "metadata": {},
     "output_type": "execute_result"
    }
   ],
   "source": [
    "u[:10]"
   ]
  },
  {
   "cell_type": "code",
   "execution_count": 16,
   "metadata": {},
   "outputs": [
    {
     "data": {
      "text/plain": [
       "(753055, 3)"
      ]
     },
     "execution_count": 16,
     "metadata": {},
     "output_type": "execute_result"
    }
   ],
   "source": [
    "u.shape"
   ]
  },
  {
   "cell_type": "code",
   "execution_count": 19,
   "metadata": {},
   "outputs": [
    {
     "data": {
      "text/plain": [
       "(753055, 3)"
      ]
     },
     "execution_count": 19,
     "metadata": {},
     "output_type": "execute_result"
    }
   ],
   "source": [
    "points.shape"
   ]
  },
  {
   "cell_type": "code",
   "execution_count": 21,
   "metadata": {},
   "outputs": [],
   "source": [
    "import pandas as pd "
   ]
  },
  {
   "cell_type": "code",
   "execution_count": 22,
   "metadata": {},
   "outputs": [],
   "source": [
    "x = []\n",
    "y = []\n",
    "z = []\n",
    "for point in points:\n",
    "    x.append(point[0])\n",
    "    y.append(point[1])\n",
    "    z.append(point[2])"
   ]
  },
  {
   "cell_type": "code",
   "execution_count": 26,
   "metadata": {},
   "outputs": [
    {
     "data": {
      "text/plain": [
       "[-40.393155147016685,\n",
       " -37.98364112383675,\n",
       " -35.430698310414236,\n",
       " -32.72578897982429,\n",
       " -29.859867183795927]"
      ]
     },
     "execution_count": 26,
     "metadata": {},
     "output_type": "execute_result"
    }
   ],
   "source": [
    "x[:5]"
   ]
  },
  {
   "cell_type": "code",
   "execution_count": 27,
   "metadata": {},
   "outputs": [
    {
     "data": {
      "text/plain": [
       "[-22.577506429167876,\n",
       " -22.577506404403994,\n",
       " -22.577506360848492,\n",
       " -22.577506299431388,\n",
       " -22.577506221548564]"
      ]
     },
     "execution_count": 27,
     "metadata": {},
     "output_type": "execute_result"
    }
   ],
   "source": [
    "y[:5]"
   ]
  },
  {
   "cell_type": "code",
   "execution_count": 28,
   "metadata": {},
   "outputs": [
    {
     "data": {
      "text/plain": [
       "[-20.339947172658537,\n",
       " -20.3399471274681,\n",
       " -20.33994704811547,\n",
       " -20.339946936182436,\n",
       " -20.339946794037886]"
      ]
     },
     "execution_count": 28,
     "metadata": {},
     "output_type": "execute_result"
    }
   ],
   "source": [
    "z[:5]"
   ]
  },
  {
   "cell_type": "code",
   "execution_count": 29,
   "metadata": {},
   "outputs": [],
   "source": [
    "v_x = []\n",
    "v_y = []\n",
    "v_z = []\n",
    "for v in u:\n",
    "    v_x.append(v[0])\n",
    "    v_y.append(v[1])\n",
    "    v_z.append(v[2])"
   ]
  },
  {
   "cell_type": "code",
   "execution_count": 30,
   "metadata": {},
   "outputs": [
    {
     "data": {
      "text/plain": [
       "([102.0904627385001, 102.09265225447973],\n",
       " [-6.0948041702327043e-05, -0.00021635692014783768],\n",
       " [-0.00039610115328008876, -0.0014047152521895895])"
      ]
     },
     "execution_count": 30,
     "metadata": {},
     "output_type": "execute_result"
    }
   ],
   "source": [
    "v_x[:2], v_y[:2], v_z[:2]"
   ]
  },
  {
   "cell_type": "code",
   "execution_count": 31,
   "metadata": {},
   "outputs": [],
   "source": [
    "df = pd.DataFrame({'x': x, 'y': y, 'z': z, 'v_x': v_x, 'v_y': v_y, 'v_z': v_z, 'pressure': p})"
   ]
  },
  {
   "cell_type": "code",
   "execution_count": 32,
   "metadata": {},
   "outputs": [
    {
     "data": {
      "text/html": [
       "<div>\n",
       "<style scoped>\n",
       "    .dataframe tbody tr th:only-of-type {\n",
       "        vertical-align: middle;\n",
       "    }\n",
       "\n",
       "    .dataframe tbody tr th {\n",
       "        vertical-align: top;\n",
       "    }\n",
       "\n",
       "    .dataframe thead th {\n",
       "        text-align: right;\n",
       "    }\n",
       "</style>\n",
       "<table border=\"1\" class=\"dataframe\">\n",
       "  <thead>\n",
       "    <tr style=\"text-align: right;\">\n",
       "      <th></th>\n",
       "      <th>x</th>\n",
       "      <th>y</th>\n",
       "      <th>z</th>\n",
       "      <th>v_x</th>\n",
       "      <th>v_y</th>\n",
       "      <th>v_z</th>\n",
       "      <th>pressure</th>\n",
       "    </tr>\n",
       "  </thead>\n",
       "  <tbody>\n",
       "    <tr>\n",
       "      <th>0</th>\n",
       "      <td>-40.393155</td>\n",
       "      <td>-22.577506</td>\n",
       "      <td>-20.339947</td>\n",
       "      <td>102.090463</td>\n",
       "      <td>-0.000061</td>\n",
       "      <td>-0.000396</td>\n",
       "      <td>100046.812072</td>\n",
       "    </tr>\n",
       "    <tr>\n",
       "      <th>1</th>\n",
       "      <td>-37.983641</td>\n",
       "      <td>-22.577506</td>\n",
       "      <td>-20.339947</td>\n",
       "      <td>102.092652</td>\n",
       "      <td>-0.000216</td>\n",
       "      <td>-0.001405</td>\n",
       "      <td>100046.566224</td>\n",
       "    </tr>\n",
       "    <tr>\n",
       "      <th>2</th>\n",
       "      <td>-35.430698</td>\n",
       "      <td>-22.577506</td>\n",
       "      <td>-20.339947</td>\n",
       "      <td>102.097987</td>\n",
       "      <td>-0.000456</td>\n",
       "      <td>-0.002848</td>\n",
       "      <td>100045.865297</td>\n",
       "    </tr>\n",
       "    <tr>\n",
       "      <th>3</th>\n",
       "      <td>-32.725789</td>\n",
       "      <td>-22.577506</td>\n",
       "      <td>-20.339947</td>\n",
       "      <td>102.106698</td>\n",
       "      <td>-0.000814</td>\n",
       "      <td>-0.004757</td>\n",
       "      <td>100044.742721</td>\n",
       "    </tr>\n",
       "    <tr>\n",
       "      <th>4</th>\n",
       "      <td>-29.859867</td>\n",
       "      <td>-22.577506</td>\n",
       "      <td>-20.339947</td>\n",
       "      <td>102.119786</td>\n",
       "      <td>-0.001347</td>\n",
       "      <td>-0.007233</td>\n",
       "      <td>100043.081579</td>\n",
       "    </tr>\n",
       "  </tbody>\n",
       "</table>\n",
       "</div>"
      ],
      "text/plain": [
       "           x          y          z         v_x       v_y       v_z  \\\n",
       "0 -40.393155 -22.577506 -20.339947  102.090463 -0.000061 -0.000396   \n",
       "1 -37.983641 -22.577506 -20.339947  102.092652 -0.000216 -0.001405   \n",
       "2 -35.430698 -22.577506 -20.339947  102.097987 -0.000456 -0.002848   \n",
       "3 -32.725789 -22.577506 -20.339947  102.106698 -0.000814 -0.004757   \n",
       "4 -29.859867 -22.577506 -20.339947  102.119786 -0.001347 -0.007233   \n",
       "\n",
       "        pressure  \n",
       "0  100046.812072  \n",
       "1  100046.566224  \n",
       "2  100045.865297  \n",
       "3  100044.742721  \n",
       "4  100043.081579  "
      ]
     },
     "execution_count": 32,
     "metadata": {},
     "output_type": "execute_result"
    }
   ],
   "source": [
    "df.head()"
   ]
  },
  {
   "cell_type": "code",
   "execution_count": 33,
   "metadata": {},
   "outputs": [
    {
     "data": {
      "text/plain": [
       "753055"
      ]
     },
     "execution_count": 33,
     "metadata": {},
     "output_type": "execute_result"
    }
   ],
   "source": [
    "len(df)"
   ]
  },
  {
   "cell_type": "code",
   "execution_count": null,
   "metadata": {},
   "outputs": [],
   "source": [
    "df.to_csv(\"data.csv\")"
   ]
  }
 ],
 "metadata": {
  "kernelspec": {
   "display_name": "venv",
   "language": "python",
   "name": "python3"
  },
  "language_info": {
   "codemirror_mode": {
    "name": "ipython",
    "version": 3
   },
   "file_extension": ".py",
   "mimetype": "text/x-python",
   "name": "python",
   "nbconvert_exporter": "python",
   "pygments_lexer": "ipython3",
   "version": "3.11.4"
  }
 },
 "nbformat": 4,
 "nbformat_minor": 2
}
