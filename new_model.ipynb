{
 "cells": [
  {
   "cell_type": "code",
   "execution_count": null,
   "metadata": {},
   "outputs": [],
   "source": [
    "import pandas as pd\n",
    "import numpy as np\n",
    "from sklearn.model_selection import train_test_split\n",
    "from sklearn.neighbors import kneighbors_graph\n",
    "import torch\n",
    "from torch_geometric.data import Data\n",
    "import torch.nn as nn\n",
    "import torch.optim as optim\n",
    "from torch_geometric.nn import MessagePassing\n",
    "from torch_geometric.utils import add_self_loops, degree"
   ]
  },
  {
   "cell_type": "code",
   "execution_count": null,
   "metadata": {},
   "outputs": [],
   "source": [
    "# Считываем данные из CSV файла\n",
    "data = pd.read_csv('data.csv')\n",
    "\n",
    "# Выбираем признаки и целевую переменную\n",
    "features = data[['x', 'y', 'z', 'v_x', 'v_y', 'v_z']].values\n",
    "target = data['pressure'].values\n",
    "\n",
    "# Разделяем данные на обучающую и тестовую выборки\n",
    "features_train, features_test, target_train, target_test = train_test_split(features, target, test_size=0.2, random_state=42)\n",
    "\n",
    "# Определите количество ближайших соседей (в данном случае, 5)\n",
    "num_neighbors = 5"
   ]
  },
  {
   "cell_type": "code",
   "execution_count": null,
   "metadata": {},
   "outputs": [],
   "source": [
    "# Вычисляем матрицу расстояний между точками обучающей выборки\n",
    "distances_matrix = kneighbors_graph(features_train, num_neighbors, mode='connectivity').toarray()\n",
    "\n",
    "# Преобразуем матрицу расстояний в edge_index для обучающей выборки\n",
    "edge_index_train = torch.tensor(np.vstack(np.where(distances_matrix > 0)), dtype=torch.long)"
   ]
  },
  {
   "cell_type": "code",
   "execution_count": null,
   "metadata": {},
   "outputs": [],
   "source": [
    "features_train_tensor = torch.tensor(features_train, dtype=torch.float)\n",
    "features_test_tensor = torch.tensor(features_test, dtype=torch.float)\n",
    "target_train_tensor = torch.tensor(target_train, dtype=torch.float)\n",
    "target_test_tensor = torch.tensor(target_test, dtype=torch.float)"
   ]
  },
  {
   "cell_type": "code",
   "execution_count": null,
   "metadata": {},
   "outputs": [],
   "source": [
    "data_train = Data(x=features_train_tensor, edge_index=edge_index_train, y=target_train_tensor)\n",
    "data_test = Data(x=features_test_tensor, edge_index=edge_index_train, y=target_test_tensor)\n"
   ]
  },
  {
   "cell_type": "code",
   "execution_count": null,
   "metadata": {},
   "outputs": [],
   "source": [
    "lass GNNModel(MessagePassing):\n",
    "    def __init__(self, input_dim, hidden_dim, output_dim):\n",
    "        super(GNNModel, self).__init__(aggr='add') # 'add' - агрегационная функция для суммирования сообщений\n",
    "        \n",
    "        # Слой для кодирования входных данных\n",
    "        self.lin_input = nn.Linear(input_dim, hidden_dim)\n",
    "        \n",
    "        # GNN слой (передача сообщений)\n",
    "        self.gnn = nn.GRUCell(hidden_dim, hidden_dim)\n",
    "        \n",
    "        # Выходной слой для предсказания pressure\n",
    "        self.lin_output = nn.Linear(hidden_dim, output_dim)\n",
    "\n",
    "    def forward(self, x, edge_index):\n",
    "        # Предобработка данных\n",
    "        x = self.lin_input(x)\n",
    "        \n",
    "        # Добавление петель к рёбрам графа (self-loops)\n",
    "        edge_index, _ = add_self_loops(edge_index, num_nodes=x.size(0))\n",
    "        \n",
    "        # Рассылка сообщений и их агрегация\n",
    "        return self.propagate(edge_index, size=(x.size(0), x.size(0)), x=x)\n",
    "\n",
    "    def message(self, x_j):\n",
    "        return x_j\n",
    "\n",
    "    def update(self, aggr_out, x):\n",
    "        # Обновление состояния узлов графа с использованием GNN\n",
    "        return self.gnn(aggr_out, x)\n",
    "\n",
    "    def decode(self, x):\n",
    "        # Предсказание pressure\n",
    "        x = torch.relu(x)\n",
    "        x = self.lin_output(x)\n",
    "        return x\n",
    "\n",
    "# Определение модели\n",
    "input_dim = 6  # Размерность входных данных (X, Y, Z, v_x, v_y, v_z)\n",
    "hidden_dim = 64  # Размерность скрытого слоя\n",
    "output_dim = 1  # Размерность выхода (pressure)\n",
    "\n",
    "model = GNNModel(input_dim, hidden_dim, output_dim)\n",
    "\n",
    "# Определение функции потерь и оптимизатора\n",
    "criterion = nn.MSELoss()\n",
    "optimizer = optim.Adam(model.parameters(), lr=0.001)\n",
    "\n",
    "# Обучение модели\n",
    "num_epochs = 10\n",
    "\n",
    "for epoch in range(num_epochs):\n",
    "    model.train()\n",
    "    optimizer.zero_grad()\n",
    "    output = model(data_train.x, data_train.edge_index)\n",
    "    predicted_pressure = model.decode(output)\n",
    "    loss = criterion(predicted_pressure, data_train.y.view(-1, 1))\n",
    "    loss.backward()\n",
    "    optimizer.step()\n",
    "\n",
    "    print(f'Epoch [{epoch + 1}/{num_epochs}], Loss: {loss.item():.4f}')\n"
   ]
  },
  {
   "cell_type": "code",
   "execution_count": null,
   "metadata": {},
   "outputs": [],
   "source": [
    "# Оценка модели на тестовых данных\n",
    "model.eval()\n",
    "with torch.no_grad():\n",
    "    output_test = model(data_test.x, data_test.edge_index)\n",
    "    predicted_pressure_test = model.decode(output_test)\n",
    "    test_loss = criterion(predicted_pressure_test, data_test.y.view(-1, 1))\n",
    "\n",
    "print(f'Test Loss: {test_loss.item():.4f}')"
   ]
  }
 ],
 "metadata": {
  "kernelspec": {
   "display_name": "venv",
   "language": "python",
   "name": "python3"
  },
  "language_info": {
   "codemirror_mode": {
    "name": "ipython",
    "version": 3
   },
   "file_extension": ".py",
   "mimetype": "text/x-python",
   "name": "python",
   "nbconvert_exporter": "python",
   "pygments_lexer": "ipython3",
   "version": "3.11.7"
  }
 },
 "nbformat": 4,
 "nbformat_minor": 2
}
