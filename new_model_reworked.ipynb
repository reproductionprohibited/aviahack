{
 "cells": [
  {
   "cell_type": "code",
   "execution_count": 8,
   "metadata": {},
   "outputs": [],
   "source": [
    "import pandas as pd\n",
    "import numpy as np\n",
    "from sklearn.model_selection import train_test_split\n",
    "from sklearn.neighbors import kneighbors_graph\n",
    "import torch\n",
    "from torch_geometric.data import Data\n",
    "import torch.nn as nn\n",
    "import torch.optim as optim\n",
    "from torch_geometric.nn import MessagePassing\n",
    "from torch_geometric.utils import add_self_loops, degree\n",
    "from sklearn.neighbors import NearestNeighbors"
   ]
  },
  {
   "cell_type": "code",
   "execution_count": 9,
   "metadata": {},
   "outputs": [],
   "source": [
    "df = pd.read_csv('all_mahs.csv')\n",
    "df_shuffled = df.sample(frac=1, random_state=42)  # random_state для воспроизводимости результата\n",
    "n_decrease = 15\n",
    "# Определите количество строк, которые вы хотите оставить (в данном случае, 1/3 датасета)\n",
    "remaining_rows = int(len(df_shuffled) / n_decrease)\n",
    "\n",
    "# Выберите первые remaining_rows строк\n",
    "df_subset = df_shuffled.head(remaining_rows)"
   ]
  },
  {
   "cell_type": "code",
   "execution_count": 10,
   "metadata": {},
   "outputs": [],
   "source": [
    "# Выбираем признаки и целевую переменную\n",
    "features = df_subset[['x', 'y', 'z', 'v_x', 'v_y', 'v_z']].values\n",
    "target = df_subset['pressure'].values\n",
    "\n",
    "# Разделяем данные на обучающую и тестовую выборки\n",
    "features_train, features_test, target_train, target_test = train_test_split(features, target, test_size=0.2, random_state=42)\n",
    "\n",
    "# Определите количество ближайших соседей (в данном случае, 5)\n",
    "num_neighbors = 5"
   ]
  },
  {
   "cell_type": "code",
   "execution_count": 11,
   "metadata": {},
   "outputs": [],
   "source": [
    "nn = NearestNeighbors(n_neighbors=num_neighbors, metric='euclidean')\n",
    "nn.fit(features_train)\n",
    "\n",
    "# Получаем индексы ближайших соседей для каждой точки\n",
    "distances, indices = nn.kneighbors(features_train)\n",
    "\n",
    "# Преобразуем индексы ближайших соседей в формат edge_index для PyTorch\n",
    "edge_index = []\n",
    "for i in range(len(indices)):\n",
    "    for j in range(1, len(indices[i])):\n",
    "        edge_index.append([i, indices[i][j]])\n",
    "\n",
    "edge_index_tensor = torch.tensor(edge_index, dtype=torch.long).t().contiguous()\n",
    "\n",
    "# Создаем граф для обучения с помощью PyTorch Geometric\n",
    "features_train_tensor = torch.tensor(features_train, dtype=torch.float)\n",
    "target_train_tensor = torch.tensor(target_train, dtype=torch.float)\n",
    "\n",
    "data_train = Data(x=features_train_tensor, edge_index=edge_index_tensor, y=target_train_tensor)"
   ]
  },
  {
   "cell_type": "code",
   "execution_count": 12,
   "metadata": {},
   "outputs": [],
   "source": [
    "features_train_tensor = torch.tensor(features_train, dtype=torch.float)\n",
    "features_test_tensor = torch.tensor(features_test, dtype=torch.float)\n",
    "target_train_tensor = torch.tensor(target_train, dtype=torch.float)\n",
    "target_test_tensor = torch.tensor(target_test, dtype=torch.float)"
   ]
  },
  {
   "cell_type": "code",
   "execution_count": 14,
   "metadata": {},
   "outputs": [],
   "source": [
    "data_train = Data(x=features_train_tensor, edge_index=data_train, y=target_train_tensor)\n",
    "data_test = Data(x=features_test_tensor, edge_index=data_train, y=target_test_tensor)\n"
   ]
  },
  {
   "cell_type": "code",
   "execution_count": 15,
   "metadata": {},
   "outputs": [
    {
     "ename": "AttributeError",
     "evalue": "'NearestNeighbors' object has no attribute 'Linear'",
     "output_type": "error",
     "traceback": [
      "\u001b[1;31m---------------------------------------------------------------------------\u001b[0m",
      "\u001b[1;31mAttributeError\u001b[0m                            Traceback (most recent call last)",
      "\u001b[1;32mc:\\Users\\USER\\Desktop\\aviahack\\aviahack\\aviahack-ml_case\\new_model.ipynb Cell 7\u001b[0m line \u001b[0;36m4\n\u001b[0;32m     <a href='vscode-notebook-cell:/c%3A/Users/USER/Desktop/aviahack/aviahack/aviahack-ml_case/new_model.ipynb#W5sZmlsZQ%3D%3D?line=38'>39</a>\u001b[0m hidden_dim \u001b[39m=\u001b[39m \u001b[39m64\u001b[39m  \u001b[39m# Размерность скрытого слоя\u001b[39;00m\n\u001b[0;32m     <a href='vscode-notebook-cell:/c%3A/Users/USER/Desktop/aviahack/aviahack/aviahack-ml_case/new_model.ipynb#W5sZmlsZQ%3D%3D?line=39'>40</a>\u001b[0m output_dim \u001b[39m=\u001b[39m \u001b[39m1\u001b[39m  \u001b[39m# Размерность выхода (pressure)\u001b[39;00m\n\u001b[1;32m---> <a href='vscode-notebook-cell:/c%3A/Users/USER/Desktop/aviahack/aviahack/aviahack-ml_case/new_model.ipynb#W5sZmlsZQ%3D%3D?line=41'>42</a>\u001b[0m model \u001b[39m=\u001b[39m GNNModel(input_dim, hidden_dim, output_dim)\n\u001b[0;32m     <a href='vscode-notebook-cell:/c%3A/Users/USER/Desktop/aviahack/aviahack/aviahack-ml_case/new_model.ipynb#W5sZmlsZQ%3D%3D?line=43'>44</a>\u001b[0m \u001b[39m# Определение функции потерь и оптимизатора\u001b[39;00m\n\u001b[0;32m     <a href='vscode-notebook-cell:/c%3A/Users/USER/Desktop/aviahack/aviahack/aviahack-ml_case/new_model.ipynb#W5sZmlsZQ%3D%3D?line=44'>45</a>\u001b[0m criterion \u001b[39m=\u001b[39m nn\u001b[39m.\u001b[39mMSELoss()\n",
      "\u001b[1;32mc:\\Users\\USER\\Desktop\\aviahack\\aviahack\\aviahack-ml_case\\new_model.ipynb Cell 7\u001b[0m line \u001b[0;36m6\n\u001b[0;32m      <a href='vscode-notebook-cell:/c%3A/Users/USER/Desktop/aviahack/aviahack/aviahack-ml_case/new_model.ipynb#W5sZmlsZQ%3D%3D?line=2'>3</a>\u001b[0m \u001b[39msuper\u001b[39m(GNNModel, \u001b[39mself\u001b[39m)\u001b[39m.\u001b[39m\u001b[39m__init__\u001b[39m(aggr\u001b[39m=\u001b[39m\u001b[39m'\u001b[39m\u001b[39madd\u001b[39m\u001b[39m'\u001b[39m) \u001b[39m# 'add' - агрегационная функция для суммирования сообщений\u001b[39;00m\n\u001b[0;32m      <a href='vscode-notebook-cell:/c%3A/Users/USER/Desktop/aviahack/aviahack/aviahack-ml_case/new_model.ipynb#W5sZmlsZQ%3D%3D?line=4'>5</a>\u001b[0m \u001b[39m# Слой для кодирования входных данных\u001b[39;00m\n\u001b[1;32m----> <a href='vscode-notebook-cell:/c%3A/Users/USER/Desktop/aviahack/aviahack/aviahack-ml_case/new_model.ipynb#W5sZmlsZQ%3D%3D?line=5'>6</a>\u001b[0m \u001b[39mself\u001b[39m\u001b[39m.\u001b[39mlin_input \u001b[39m=\u001b[39m nn\u001b[39m.\u001b[39;49mLinear(input_dim, hidden_dim)\n\u001b[0;32m      <a href='vscode-notebook-cell:/c%3A/Users/USER/Desktop/aviahack/aviahack/aviahack-ml_case/new_model.ipynb#W5sZmlsZQ%3D%3D?line=7'>8</a>\u001b[0m \u001b[39m# GNN слой (передача сообщений)\u001b[39;00m\n\u001b[0;32m      <a href='vscode-notebook-cell:/c%3A/Users/USER/Desktop/aviahack/aviahack/aviahack-ml_case/new_model.ipynb#W5sZmlsZQ%3D%3D?line=8'>9</a>\u001b[0m \u001b[39mself\u001b[39m\u001b[39m.\u001b[39mgnn \u001b[39m=\u001b[39m nn\u001b[39m.\u001b[39mGRUCell(hidden_dim, hidden_dim)\n",
      "\u001b[1;31mAttributeError\u001b[0m: 'NearestNeighbors' object has no attribute 'Linear'"
     ]
    }
   ],
   "source": [
    "class GNNModel(MessagePassing):\n",
    "    def __init__(self, input_dim, hidden_dim, output_dim):\n",
    "        super(GNNModel, self).__init__(aggr='add') # 'add' - агрегационная функция для суммирования сообщений\n",
    "        \n",
    "        # Слой для кодирования входных данных\n",
    "        self.lin_input = nn.Linear(input_dim, hidden_dim)\n",
    "        \n",
    "        # GNN слой (передача сообщений)\n",
    "        self.gnn = nn.GRUCell(hidden_dim, hidden_dim)\n",
    "        \n",
    "        # Выходной слой для предсказания pressure\n",
    "        self.lin_output = nn.Linear(hidden_dim, output_dim)\n",
    "\n",
    "    def forward(self, x, edge_index):\n",
    "        # Предобработка данных\n",
    "        x = self.lin_input(x)\n",
    "        \n",
    "        # Добавление петель к рёбрам графа (self-loops)\n",
    "        edge_index, _ = add_self_loops(edge_index, num_nodes=x.size(0))\n",
    "        \n",
    "        # Рассылка сообщений и их агрегация\n",
    "        return self.propagate(edge_index, size=(x.size(0), x.size(0)), x=x)\n",
    "\n",
    "    def message(self, x_j):\n",
    "        return x_j\n",
    "\n",
    "    def update(self, aggr_out, x):\n",
    "        # Обновление состояния узлов графа с использованием GNN\n",
    "        return self.gnn(aggr_out, x)\n",
    "\n",
    "    def decode(self, x):\n",
    "        # Предсказание pressure\n",
    "        x = torch.relu(x)\n",
    "        x = self.lin_output(x)\n",
    "        return x\n",
    "\n",
    "# Определение модели\n",
    "input_dim = 6  # Размерность входных данных (X, Y, Z, v_x, v_y, v_z)\n",
    "hidden_dim = 64  # Размерность скрытого слоя\n",
    "output_dim = 1  # Размерность выхода (pressure)\n",
    "\n",
    "model = GNNModel(input_dim, hidden_dim, output_dim)\n",
    "\n",
    "# Определение функции потерь и оптимизатора\n",
    "criterion = nn.MSELoss()\n",
    "optimizer = optim.Adam(model.parameters(), lr=0.001)\n",
    "\n",
    "# Обучение модели\n",
    "num_epochs = 10\n",
    "\n",
    "for epoch in range(num_epochs):\n",
    "    model.train()\n",
    "    optimizer.zero_grad()\n",
    "    output = model(data_train.x, data_train.edge_index)\n",
    "    predicted_pressure = model.decode(output)\n",
    "    loss = criterion(predicted_pressure, data_train.y.view(-1, 1))\n",
    "    loss.backward()\n",
    "    optimizer.step()\n",
    "\n",
    "    print(f'Epoch [{epoch + 1}/{num_epochs}], Loss: {loss.item():.4f}')\n"
   ]
  },
  {
   "cell_type": "code",
   "execution_count": null,
   "metadata": {},
   "outputs": [],
   "source": [
    "# Оценка модели на тестовых данных\n",
    "model.eval()\n",
    "with torch.no_grad():\n",
    "    output_test = model(data_test.x, data_test.edge_index)\n",
    "    predicted_pressure_test = model.decode(output_test)\n",
    "    test_loss = criterion(predicted_pressure_test, data_test.y.view(-1, 1))\n",
    "\n",
    "print(f'Test Loss: {test_loss.item():.4f}')"
   ]
  }
 ],
 "metadata": {
  "kernelspec": {
   "display_name": "venv",
   "language": "python",
   "name": "python3"
  },
  "language_info": {
   "codemirror_mode": {
    "name": "ipython",
    "version": 3
   },
   "file_extension": ".py",
   "mimetype": "text/x-python",
   "name": "python",
   "nbconvert_exporter": "python",
   "pygments_lexer": "ipython3",
   "version": "3.11.4"
  }
 },
 "nbformat": 4,
 "nbformat_minor": 2
}
